{
  "cells": [
    {
      "cell_type": "markdown",
      "metadata": {
        "id": "view-in-github",
        "colab_type": "text"
      },
      "source": [
        "<a href=\"https://colab.research.google.com/github/ibrahimfss/telegram_auto/blob/main/Copy_of_Telegram_automation.ipynb\" target=\"_parent\"><img src=\"https://colab.research.google.com/assets/colab-badge.svg\" alt=\"Open In Colab\"/></a>"
      ]
    },
    {
      "cell_type": "code",
      "execution_count": null,
      "metadata": {
        "colab": {
          "base_uri": "https://localhost:8080/"
        },
        "id": "qdAD9kGvZ6hA",
        "outputId": "bff39126-4f7b-468f-a21d-a91e56de88f4"
      },
      "outputs": [
        {
          "name": "stdout",
          "output_type": "stream",
          "text": [
            "Collecting telethon\n",
            "  Downloading telethon-1.41.2-py3-none-any.whl.metadata (3.9 kB)\n",
            "Requirement already satisfied: openai in /usr/local/lib/python3.12/dist-packages (1.109.1)\n",
            "Collecting schedule\n",
            "  Downloading schedule-1.2.2-py3-none-any.whl.metadata (3.8 kB)\n",
            "Collecting pyaes (from telethon)\n",
            "  Downloading pyaes-1.6.1.tar.gz (28 kB)\n",
            "  Preparing metadata (setup.py) ... \u001b[?25l\u001b[?25hdone\n",
            "Requirement already satisfied: rsa in /usr/local/lib/python3.12/dist-packages (from telethon) (4.9.1)\n",
            "Requirement already satisfied: anyio<5,>=3.5.0 in /usr/local/lib/python3.12/dist-packages (from openai) (4.11.0)\n",
            "Requirement already satisfied: distro<2,>=1.7.0 in /usr/local/lib/python3.12/dist-packages (from openai) (1.9.0)\n",
            "Requirement already satisfied: httpx<1,>=0.23.0 in /usr/local/lib/python3.12/dist-packages (from openai) (0.28.1)\n",
            "Requirement already satisfied: jiter<1,>=0.4.0 in /usr/local/lib/python3.12/dist-packages (from openai) (0.11.0)\n",
            "Requirement already satisfied: pydantic<3,>=1.9.0 in /usr/local/lib/python3.12/dist-packages (from openai) (2.11.9)\n",
            "Requirement already satisfied: sniffio in /usr/local/lib/python3.12/dist-packages (from openai) (1.3.1)\n",
            "Requirement already satisfied: tqdm>4 in /usr/local/lib/python3.12/dist-packages (from openai) (4.67.1)\n",
            "Requirement already satisfied: typing-extensions<5,>=4.11 in /usr/local/lib/python3.12/dist-packages (from openai) (4.15.0)\n",
            "Requirement already satisfied: idna>=2.8 in /usr/local/lib/python3.12/dist-packages (from anyio<5,>=3.5.0->openai) (3.10)\n",
            "Requirement already satisfied: certifi in /usr/local/lib/python3.12/dist-packages (from httpx<1,>=0.23.0->openai) (2025.8.3)\n",
            "Requirement already satisfied: httpcore==1.* in /usr/local/lib/python3.12/dist-packages (from httpx<1,>=0.23.0->openai) (1.0.9)\n",
            "Requirement already satisfied: h11>=0.16 in /usr/local/lib/python3.12/dist-packages (from httpcore==1.*->httpx<1,>=0.23.0->openai) (0.16.0)\n",
            "Requirement already satisfied: annotated-types>=0.6.0 in /usr/local/lib/python3.12/dist-packages (from pydantic<3,>=1.9.0->openai) (0.7.0)\n",
            "Requirement already satisfied: pydantic-core==2.33.2 in /usr/local/lib/python3.12/dist-packages (from pydantic<3,>=1.9.0->openai) (2.33.2)\n",
            "Requirement already satisfied: typing-inspection>=0.4.0 in /usr/local/lib/python3.12/dist-packages (from pydantic<3,>=1.9.0->openai) (0.4.2)\n",
            "Requirement already satisfied: pyasn1>=0.1.3 in /usr/local/lib/python3.12/dist-packages (from rsa->telethon) (0.6.1)\n",
            "Downloading telethon-1.41.2-py3-none-any.whl (744 kB)\n",
            "\u001b[2K   \u001b[90m━━━━━━━━━━━━━━━━━━━━━━━━━━━━━━━━━━━━━━━━\u001b[0m \u001b[32m744.9/744.9 kB\u001b[0m \u001b[31m13.0 MB/s\u001b[0m eta \u001b[36m0:00:00\u001b[0m\n",
            "\u001b[?25hDownloading schedule-1.2.2-py3-none-any.whl (12 kB)\n",
            "Building wheels for collected packages: pyaes\n",
            "  Building wheel for pyaes (setup.py) ... \u001b[?25l\u001b[?25hdone\n",
            "  Created wheel for pyaes: filename=pyaes-1.6.1-py3-none-any.whl size=26347 sha256=5b2568ddaed54d74bc0d408fea332c34476ce62e646135ef476a4dfa9a7191ee\n",
            "  Stored in directory: /root/.cache/pip/wheels/d9/43/32/ec313dd557e88e419489b9df40c04dad7b99576bde162496f8\n",
            "Successfully built pyaes\n",
            "Installing collected packages: pyaes, schedule, telethon\n",
            "Successfully installed pyaes-1.6.1 schedule-1.2.2 telethon-1.41.2\n",
            "Collecting python-telegram-bot\n",
            "  Downloading python_telegram_bot-22.5-py3-none-any.whl.metadata (17 kB)\n",
            "Requirement already satisfied: httpx<0.29,>=0.27 in /usr/local/lib/python3.12/dist-packages (from python-telegram-bot) (0.28.1)\n",
            "Requirement already satisfied: anyio in /usr/local/lib/python3.12/dist-packages (from httpx<0.29,>=0.27->python-telegram-bot) (4.11.0)\n",
            "Requirement already satisfied: certifi in /usr/local/lib/python3.12/dist-packages (from httpx<0.29,>=0.27->python-telegram-bot) (2025.8.3)\n",
            "Requirement already satisfied: httpcore==1.* in /usr/local/lib/python3.12/dist-packages (from httpx<0.29,>=0.27->python-telegram-bot) (1.0.9)\n",
            "Requirement already satisfied: idna in /usr/local/lib/python3.12/dist-packages (from httpx<0.29,>=0.27->python-telegram-bot) (3.10)\n",
            "Requirement already satisfied: h11>=0.16 in /usr/local/lib/python3.12/dist-packages (from httpcore==1.*->httpx<0.29,>=0.27->python-telegram-bot) (0.16.0)\n",
            "Requirement already satisfied: sniffio>=1.1 in /usr/local/lib/python3.12/dist-packages (from anyio->httpx<0.29,>=0.27->python-telegram-bot) (1.3.1)\n",
            "Requirement already satisfied: typing_extensions>=4.5 in /usr/local/lib/python3.12/dist-packages (from anyio->httpx<0.29,>=0.27->python-telegram-bot) (4.15.0)\n",
            "Downloading python_telegram_bot-22.5-py3-none-any.whl (730 kB)\n",
            "\u001b[2K   \u001b[90m━━━━━━━━━━━━━━━━━━━━━━━━━━━━━━━━━━━━━━━━\u001b[0m \u001b[32m731.0/731.0 kB\u001b[0m \u001b[31m11.2 MB/s\u001b[0m eta \u001b[36m0:00:00\u001b[0m\n",
            "\u001b[?25hInstalling collected packages: python-telegram-bot\n",
            "Successfully installed python-telegram-bot-22.5\n",
            "✅ All Telegram libraries installed successfully!\n"
          ]
        }
      ],
      "source": [
        "# STEP 1: INSTALL ALL LIBRARIES\n",
        "!pip install telethon openai schedule\n",
        "!pip install python-telegram-bot\n",
        "\n",
        "print(\"✅ All Telegram libraries installed successfully!\")"
      ]
    },
    {
      "cell_type": "code",
      "execution_count": null,
      "metadata": {
        "colab": {
          "base_uri": "https://localhost:8080/"
        },
        "id": "lCCWxBptbi-V",
        "outputId": "6d12c36e-9d5f-4910-ae9d-4af8dfd8de62"
      },
      "outputs": [
        {
          "name": "stdout",
          "output_type": "stream",
          "text": [
            "✅ All libraries imported successfully!\n"
          ]
        }
      ],
      "source": [
        "# STEP 2: IMPORT LIBRARIES\n",
        "from telethon import TelegramClient\n",
        "import asyncio\n",
        "import openai\n",
        "import random\n",
        "import time\n",
        "import schedule\n",
        "\n",
        "print(\"✅ All libraries imported successfully!\")"
      ]
    },
    {
      "cell_type": "code",
      "execution_count": null,
      "metadata": {
        "colab": {
          "base_uri": "https://localhost:8080/"
        },
        "id": "hsT_brR1bnel",
        "outputId": "b51bac16-8665-4afc-f82b-6f523da2ef2b"
      },
      "outputs": [
        {
          "name": "stdout",
          "output_type": "stream",
          "text": [
            "✅ Telegram credentials loaded!\n"
          ]
        }
      ],
      "source": [
        "# STEP 3: TELEGRAM API CREDENTIALS\n",
        "# 🔧 APNA DATA YAHAN DAALO:\n",
        "\n",
        "API_ID = 25111726                    # 🔧 Yaha apna API ID daalo\n",
        "API_HASH = '3c46706cb42ace11b5caed043ebb186c'     # 🔧 Yaha apna API Hash daalo\n",
        "\n",
        "# 3 Phone Numbers (Apne 3 numbers daalo)\n",
        "PHONE_1 = '+919453620517'           # 🔧 Apna pehla number\n",
        "PHONE_2 = '+919454907095'           # 🔧 Apna dusra number\n",
        "PHONE_3 = '+919532497175'           # 🔧 Apna teesra number\n",
        "\n",
        "print(\"✅ Telegram credentials loaded!\")"
      ]
    },
    {
      "cell_type": "code",
      "execution_count": null,
      "metadata": {
        "colab": {
          "base_uri": "https://localhost:8080/"
        },
        "id": "SMuepOImc5uY",
        "outputId": "3e3a8fa3-b109-4d23-d466-80763dc6c8c5"
      },
      "outputs": [
        {
          "name": "stdout",
          "output_type": "stream",
          "text": [
            "✅ 15 Telegram groups loaded!\n"
          ]
        }
      ],
      "source": [
        "# STEP 4: TELEGRAM GROUPS LIST\n",
        "# 🔧 APNE JOINED GROUPS KE LINKS YAHAN DAALO:\n",
        "\n",
        "TELEGRAM_GROUPS = [\n",
        "    'https://t.me/x_1xbet',\n",
        "    'https://t.me/bocaijiaoliu2',\n",
        "    'https://t.me/kramaGroup',\n",
        "    'https://t.me/cross_promotions1',\n",
        "    'https://t.me/jobs_khmer',\n",
        "    'https://t.me/Radiklar_tanishuvlar1',\n",
        "    'https://t.me/friendshub03',\n",
        "    'https://t.me/UA_servis_UK',\n",
        "    'https://t.me/svoilondon',\n",
        "    'https://t.me/londontalks_ua',\n",
        "    'https://t.me/studentkichatik',\n",
        "    'https://t.me/pasu_parichar2025',\n",
        "    'https://t.me/solanarocketschat',\n",
        "    'https://t.me/earningmoneyeth',\n",
        "    'https://t.me/freeabyssinia',\n",
        "    # 5-10 aur groups ke links daalo\n",
        "]\n",
        "\n",
        "print(f\"✅ {len(TELEGRAM_GROUPS)} Telegram groups loaded!\")"
      ]
    },
    {
      "cell_type": "code",
      "execution_count": null,
      "metadata": {
        "colab": {
          "base_uri": "https://localhost:8080/"
        },
        "id": "mirM4_TYeG0-",
        "outputId": "72526964-d1f0-44ec-df44-06509a127cab"
      },
      "outputs": [
        {
          "name": "stdout",
          "output_type": "stream",
          "text": [
            "🤖 Testing Hourly AI Post Generator:\n",
            "💰 GET 500% WELCOME BONUS! 🎯\n",
            "1Win par abhi register karo aur 500% bonus pao! 💸\n",
            "Promocode: OGGY use karo! 🎁\n",
            "Live Betting ⚡ | 24/7 Support 📞\n",
            "\n",
            "🔗 https://lkxd.cc/98a4\n",
            "🔥 Promocode: OGGY\n",
            "\n",
            "#WinBig #OGGY\n"
          ]
        }
      ],
      "source": [
        "# STEP 5: HOURLY AI POST GENERATOR WITH PROMOCODE\n",
        "# 🔧 APNA 1WIN AFFILIATE LINK YAHAN DAALO:\n",
        "\n",
        "AFFILIATE_LINK = \"https://lkxd.cc/98a4\"  # 🔧 Apna real link daalo\n",
        "\n",
        "def generate_hourly_telegram_post():\n",
        "    post_templates = [\n",
        "        \"Create a new motivational post about winning money on 1Win with 500% bonus and promocode OGGY - make it unique and engaging\",\n",
        "        \"Write a fresh inspiring post about financial freedom through 1Win with 500% bonus using promocode OGGY - make it different from previous posts\",\n",
        "        \"Create a new success story about daily earnings on 1Win with 500% welcome bonus and promocode OGGY - use different examples\",\n",
        "        \"Write a unique tips post for maximizing profits on 1Win with 500% bonus and promocode OGGY - provide new insights\"\n",
        "    ]\n",
        "\n",
        "    selected_template = random.choice(post_templates)\n",
        "\n",
        "    try:\n",
        "        response = openai.ChatCompletion.create(\n",
        "            model=\"gpt-3.5-turbo\",\n",
        "            messages=[\n",
        "                {\"role\": \"user\", \"content\": selected_template + \" Use Hindi/English mix. Highlight 500% bonus and promocode OGGY. Make each message unique and motivational.\"}\n",
        "            ],\n",
        "            max_tokens=120,\n",
        "            temperature=0.9\n",
        "        )\n",
        "\n",
        "        post_content = response.choices[0].message.content\n",
        "\n",
        "        # Different formats for variety\n",
        "        formats = [\n",
        "            f\"🚀 {post_content}\\n\\n🎯 Register: {AFFILIATE_LINK}\\n🔥 Promocode: OGGY\\n💰 500% BONUS!\\n\\n#1Win #500Bonus #OGGY\",\n",
        "            f\"💰 {post_content}\\n\\n🔗 {AFFILIATE_LINK}\\n🎁 Use Code: OGGY\\n⚡ 500% WELCOME BONUS!\\n\\n#WinBig #OGGY #Bonus\",\n",
        "            f\"🏆 {post_content}\\n\\n👉 Register: {AFFILIATE_LINK}\\n💎 Promocode: OGGY\\n🎯 500% EXTRA BONUS!\\n\\n#1Win #Promo #OGGY\"\n",
        "        ]\n",
        "\n",
        "        return random.choice(formats)\n",
        "\n",
        "    except Exception as e:\n",
        "        # Fallback messages\n",
        "        fallback_messages = [\n",
        "            f\"🚀 LIMITED TIME! 500% BONUS on 1Win! 💰\\nUse Promocode: OGGY for extra bonus! 🎁\\nSports Betting 🏏 | Casino Games 🎰\\nQuick Withdrawals! ⚡\\n\\n🎯 Register: {AFFILIATE_LINK}\\n🔥 Promocode: OGGY\\n\\n#1Win #500Bonus #OGGY\",\n",
        "            f\"💰 GET 500% WELCOME BONUS! 🎯\\n1Win par abhi register karo aur 500% bonus pao! 💸\\nPromocode: OGGY use karo! 🎁\\nLive Betting ⚡ | 24/7 Support 📞\\n\\n🔗 {AFFILIATE_LINK}\\n🔥 Promocode: OGGY\\n\\n#WinBig #OGGY\",\n",
        "            f\"🏆 SPECIAL PROMOCODE OFFER! 🎁\\nGet 500% BONUS on 1Win with Promocode: OGGY! 💰\\nEasy Registration ✅ Fast Withdrawals ⚡\\nDaily Bonuses 🎯\\n\\n🎯 Register Now: {AFFILIATE_LINK}\\n🔥 Use Promocode: OGGY\\n\\n#1Win #Bonus #OGGY\"\n",
        "        ]\n",
        "        return random.choice(fallback_messages)\n",
        "\n",
        "# Test AI\n",
        "print(\"🤖 Testing Hourly AI Post Generator:\")\n",
        "test_post = generate_hourly_telegram_post()\n",
        "print(test_post)"
      ]
    },
    {
      "cell_type": "code",
      "execution_count": null,
      "metadata": {
        "colab": {
          "base_uri": "https://localhost:8080/"
        },
        "id": "G8qj8iapfOWb",
        "outputId": "b99e91e4-76f8-476a-ec7e-9cf3f936fad5"
      },
      "outputs": [
        {
          "name": "stdout",
          "output_type": "stream",
          "text": [
            "✅ Hourly automation bot created!\n"
          ]
        }
      ],
      "source": [
        "# STEP 6: MULTI-ACCOUNT HOURLY AUTOMATION\n",
        "class HourlyTelegramBot:\n",
        "    def __init__(self):\n",
        "        self.accounts = [\n",
        "            {'phone': PHONE_1, 'session': 'account1.session'},\n",
        "            {'phone': PHONE_2, 'session': 'account2.session'},\n",
        "            {'phone': PHONE_3, 'session': 'account3.session'}\n",
        "        ]\n",
        "        self.clients = []\n",
        "\n",
        "    async def initialize_accounts(self):\n",
        "        \"\"\"Sab accounts initialize karta hai\"\"\"\n",
        "        print(\"🔐 Initializing Telegram accounts...\")\n",
        "\n",
        "        for account in self.accounts:\n",
        "            try:\n",
        "                client = TelegramClient(account['session'], API_ID, API_HASH)\n",
        "                await client.start(phone=account['phone'])\n",
        "                self.clients.append(client)\n",
        "                print(f\"✅ {account['phone']} - Login successful!\")\n",
        "            except Exception as e:\n",
        "                print(f\"❌ {account['phone']} - Login failed: {str(e)}\")\n",
        "\n",
        "    async def send_to_group(self, client, group_link):\n",
        "        \"\"\"Ek group mein message send karta hai\"\"\"\n",
        "        try:\n",
        "            message = generate_hourly_telegram_post()\n",
        "            entity = await client.get_entity(group_link)\n",
        "            await client.send_message(entity, message)\n",
        "            print(f\"✅ Message sent to {group_link}\")\n",
        "            return True\n",
        "        except Exception as e:\n",
        "            print(f\"❌ Error in {group_link}: {str(e)}\")\n",
        "            return False\n",
        "\n",
        "    async def hourly_broadcast(self):\n",
        "        \"\"\"Har account se sab groups mein messages send karta hai\"\"\"\n",
        "        print(f\"\\n🕐 Starting Hourly Broadcast - {time.strftime('%H:%M:%S')}\")\n",
        "\n",
        "        total_sent = 0\n",
        "\n",
        "        for i, client in enumerate(self.clients):\n",
        "            print(f\"\\n📱 Account {i+1} processing...\")\n",
        "            account_sent = 0\n",
        "\n",
        "            for group_link in TELEGRAM_GROUPS:\n",
        "                try:\n",
        "                    success = await self.send_to_group(client, group_link)\n",
        "                    if success:\n",
        "                        account_sent += 1\n",
        "                        total_sent += 1\n",
        "\n",
        "                    # 2-3 minutes wait between groups\n",
        "                    wait_time = random.randint(120, 180)\n",
        "                    print(f\"⏳ Waiting {wait_time} seconds...\")\n",
        "                    await asyncio.sleep(wait_time)\n",
        "\n",
        "                except Exception as e:\n",
        "                    print(f\"❌ Group error: {str(e)}\")\n",
        "                    continue\n",
        "\n",
        "            print(f\"✅ Account {i+1}: {account_sent}/{len(TELEGRAM_GROUPS)} groups\")\n",
        "\n",
        "        print(f\"\\n🎉 Hourly broadcast completed! Total: {total_sent} messages sent\")\n",
        "        return total_sent\n",
        "\n",
        "    async def start_hourly_automation(self):\n",
        "        \"\"\"Har 1 ghante mein automation run karta hai\"\"\"\n",
        "        try:\n",
        "            # Accounts initialize karo\n",
        "            await self.initialize_accounts()\n",
        "            print(\"✅ All accounts initialized!\")\n",
        "\n",
        "            # Pehla broadcast immediately\n",
        "            print(\"\\n🚀 Starting first broadcast immediately...\")\n",
        "            await self.hourly_broadcast()\n",
        "\n",
        "            # Har 1 ghante mein repeat karo\n",
        "            while True:\n",
        "                print(f\"\\n⏰ Next broadcast at: {time.strftime('%H:%M:%S')}\")\n",
        "                await asyncio.sleep(3600)  # 1 hour wait\n",
        "                await self.hourly_broadcast()\n",
        "\n",
        "        except Exception as e:\n",
        "            print(f\"❌ Automation error: {str(e)}\")\n",
        "\n",
        "# Bot object create karo\n",
        "hourly_bot = HourlyTelegramBot()\n",
        "print(\"✅ Hourly automation bot created!\")"
      ]
    },
    {
      "cell_type": "code",
      "execution_count": null,
      "metadata": {
        "colab": {
          "background_save": true,
          "base_uri": "https://localhost:8080/"
        },
        "id": "U00Msac_ukfC",
        "outputId": "d668a28d-bf15-4bd3-dbd1-91942ebfe430"
      },
      "outputs": [
        {
          "metadata": {
            "tags": null
          },
          "name": "stdout",
          "output_type": "stream",
          "text": [
            "==================================================\n",
            "🚀 TELEGRAM HOURLY AUTOMATION STARTING\n",
            "==================================================\n",
            "📱 Accounts: 3\n",
            "📊 Groups: 15\n",
            "⏰ Frequency: Every 1 hour\n",
            "🎁 Promocode: OGGY\n",
            "==================================================\n",
            "⏳ Starting in 5 seconds...\n",
            "🔐 Initializing Telegram accounts...\n",
            "Signed in successfully as 🩷; remember to not break the ToS or you will risk an account ban!\n",
            "✅ +919453620517 - Login successful!\n",
            "Signed in successfully as Sr. Affiliate Manager; remember to not break the ToS or you will risk an account ban!\n",
            "✅ +919454907095 - Login successful!\n",
            "Signed in successfully as Sofie; remember to not break the ToS or you will risk an account ban!\n",
            "✅ +919532497175 - Login successful!\n",
            "✅ All accounts initialized!\n",
            "\n",
            "🚀 Starting first broadcast immediately...\n",
            "\n",
            "🕐 Starting Hourly Broadcast - 07:36:43\n",
            "\n",
            "📱 Account 1 processing...\n",
            "✅ Message sent to https://t.me/x_1xbet\n",
            "⏳ Waiting 132 seconds...\n"
          ]
        },
        {
          "metadata": {
            "tags": null
          },
          "name": "stderr",
          "output_type": "stream",
          "text": [
            "WARNING:telethon.client.users:Telegram is having internal issues PersistentTimestampOutdatedError: Persistent timestamp outdated (caused by GetChannelDifferenceRequest)\n",
            "WARNING:telethon.client.users:Telegram is having internal issues PersistentTimestampOutdatedError: Persistent timestamp outdated (caused by GetChannelDifferenceRequest)\n",
            "WARNING:telethon.client.users:Telegram is having internal issues PersistentTimestampOutdatedError: Persistent timestamp outdated (caused by GetChannelDifferenceRequest)\n",
            "WARNING:telethon.client.users:Telegram is having internal issues PersistentTimestampOutdatedError: Persistent timestamp outdated (caused by GetChannelDifferenceRequest)\n"
          ]
        },
        {
          "metadata": {
            "tags": null
          },
          "name": "stdout",
          "output_type": "stream",
          "text": [
            "✅ Message sent to https://t.me/bocaijiaoliu2\n",
            "⏳ Waiting 167 seconds...\n"
          ]
        },
        {
          "metadata": {
            "tags": null
          },
          "name": "stderr",
          "output_type": "stream",
          "text": [
            "WARNING:telethon.client.users:Telegram is having internal issues PersistentTimestampOutdatedError: Persistent timestamp outdated (caused by GetChannelDifferenceRequest)\n",
            "WARNING:telethon.client.users:Telegram is having internal issues PersistentTimestampOutdatedError: Persistent timestamp outdated (caused by GetChannelDifferenceRequest)\n"
          ]
        },
        {
          "metadata": {
            "tags": null
          },
          "name": "stdout",
          "output_type": "stream",
          "text": [
            "✅ Message sent to https://t.me/kramaGroup\n",
            "⏳ Waiting 143 seconds...\n"
          ]
        },
        {
          "metadata": {
            "tags": null
          },
          "name": "stderr",
          "output_type": "stream",
          "text": [
            "WARNING:telethon.client.users:Telegram is having internal issues PersistentTimestampOutdatedError: Persistent timestamp outdated (caused by GetChannelDifferenceRequest)\n",
            "WARNING:telethon.client.users:Telegram is having internal issues PersistentTimestampOutdatedError: Persistent timestamp outdated (caused by GetChannelDifferenceRequest)\n",
            "WARNING:telethon.client.users:Telegram is having internal issues PersistentTimestampOutdatedError: Persistent timestamp outdated (caused by GetChannelDifferenceRequest)\n"
          ]
        },
        {
          "metadata": {
            "tags": null
          },
          "name": "stdout",
          "output_type": "stream",
          "text": [
            "✅ Message sent to https://t.me/cross_promotions1\n",
            "⏳ Waiting 135 seconds...\n"
          ]
        },
        {
          "metadata": {
            "tags": null
          },
          "name": "stderr",
          "output_type": "stream",
          "text": [
            "WARNING:telethon.client.users:Telegram is having internal issues PersistentTimestampOutdatedError: Persistent timestamp outdated (caused by GetChannelDifferenceRequest)\n",
            "WARNING:telethon.client.users:Telegram is having internal issues PersistentTimestampOutdatedError: Persistent timestamp outdated (caused by GetChannelDifferenceRequest)\n",
            "WARNING:telethon.client.users:Telegram is having internal issues PersistentTimestampOutdatedError: Persistent timestamp outdated (caused by GetChannelDifferenceRequest)\n",
            "WARNING:telethon.client.users:Telegram is having internal issues PersistentTimestampOutdatedError: Persistent timestamp outdated (caused by GetChannelDifferenceRequest)\n",
            "WARNING:telethon.client.users:Telegram is having internal issues PersistentTimestampOutdatedError: Persistent timestamp outdated (caused by GetChannelDifferenceRequest)\n",
            "WARNING:telethon.client.users:Telegram is having internal issues PersistentTimestampOutdatedError: Persistent timestamp outdated (caused by GetChannelDifferenceRequest)\n",
            "WARNING:telethon.client.users:Telegram is having internal issues PersistentTimestampOutdatedError: Persistent timestamp outdated (caused by GetChannelDifferenceRequest)\n"
          ]
        },
        {
          "metadata": {
            "tags": null
          },
          "name": "stdout",
          "output_type": "stream",
          "text": [
            "❌ Error in https://t.me/jobs_khmer: You're banned from sending messages in supergroups/channels (caused by SendMessageRequest)\n",
            "⏳ Waiting 127 seconds...\n"
          ]
        },
        {
          "metadata": {
            "tags": null
          },
          "name": "stderr",
          "output_type": "stream",
          "text": [
            "WARNING:telethon.client.users:Telegram is having internal issues PersistentTimestampOutdatedError: Persistent timestamp outdated (caused by GetChannelDifferenceRequest)\n",
            "WARNING:telethon.client.users:Telegram is having internal issues PersistentTimestampOutdatedError: Persistent timestamp outdated (caused by GetChannelDifferenceRequest)\n",
            "WARNING:telethon.client.users:Telegram is having internal issues PersistentTimestampOutdatedError: Persistent timestamp outdated (caused by GetChannelDifferenceRequest)\n",
            "WARNING:telethon.client.users:Telegram is having internal issues PersistentTimestampOutdatedError: Persistent timestamp outdated (caused by GetChannelDifferenceRequest)\n"
          ]
        },
        {
          "metadata": {
            "tags": null
          },
          "name": "stdout",
          "output_type": "stream",
          "text": [
            "❌ Error in https://t.me/Radiklar_tanishuvlar1: You're banned from sending messages in supergroups/channels (caused by SendMessageRequest)\n",
            "⏳ Waiting 132 seconds...\n"
          ]
        },
        {
          "metadata": {
            "tags": null
          },
          "name": "stderr",
          "output_type": "stream",
          "text": [
            "WARNING:telethon.client.users:Telegram is having internal issues PersistentTimestampOutdatedError: Persistent timestamp outdated (caused by GetChannelDifferenceRequest)\n",
            "WARNING:telethon.client.users:Telegram is having internal issues PersistentTimestampOutdatedError: Persistent timestamp outdated (caused by GetChannelDifferenceRequest)\n",
            "WARNING:telethon.client.users:Telegram is having internal issues PersistentTimestampOutdatedError: Persistent timestamp outdated (caused by GetChannelDifferenceRequest)\n"
          ]
        },
        {
          "metadata": {
            "tags": null
          },
          "name": "stdout",
          "output_type": "stream",
          "text": [
            "❌ Error in https://t.me/friendshub03: You're banned from sending messages in supergroups/channels (caused by SendMessageRequest)\n",
            "⏳ Waiting 145 seconds...\n"
          ]
        },
        {
          "metadata": {
            "tags": null
          },
          "name": "stderr",
          "output_type": "stream",
          "text": [
            "WARNING:telethon.client.users:Telegram is having internal issues PersistentTimestampOutdatedError: Persistent timestamp outdated (caused by GetChannelDifferenceRequest)\n",
            "WARNING:telethon.client.users:Telegram is having internal issues PersistentTimestampOutdatedError: Persistent timestamp outdated (caused by GetChannelDifferenceRequest)\n"
          ]
        },
        {
          "metadata": {
            "tags": null
          },
          "name": "stdout",
          "output_type": "stream",
          "text": [
            "✅ Message sent to https://t.me/UA_servis_UK\n",
            "⏳ Waiting 170 seconds...\n"
          ]
        },
        {
          "metadata": {
            "tags": null
          },
          "name": "stderr",
          "output_type": "stream",
          "text": [
            "WARNING:telethon.client.users:Telegram is having internal issues PersistentTimestampOutdatedError: Persistent timestamp outdated (caused by GetChannelDifferenceRequest)\n",
            "WARNING:telethon.client.users:Telegram is having internal issues PersistentTimestampOutdatedError: Persistent timestamp outdated (caused by GetChannelDifferenceRequest)\n",
            "WARNING:telethon.client.users:Telegram is having internal issues PersistentTimestampOutdatedError: Persistent timestamp outdated (caused by GetChannelDifferenceRequest)\n",
            "WARNING:telethon.client.users:Telegram is having internal issues PersistentTimestampOutdatedError: Persistent timestamp outdated (caused by GetChannelDifferenceRequest)\n",
            "WARNING:telethon.client.users:Telegram is having internal issues PersistentTimestampOutdatedError: Persistent timestamp outdated (caused by GetChannelDifferenceRequest)\n",
            "WARNING:telethon.client.users:Telegram is having internal issues PersistentTimestampOutdatedError: Persistent timestamp outdated (caused by GetChannelDifferenceRequest)\n",
            "WARNING:telethon.client.users:Telegram is having internal issues PersistentTimestampOutdatedError: Persistent timestamp outdated (caused by GetChannelDifferenceRequest)\n"
          ]
        },
        {
          "metadata": {
            "tags": null
          },
          "name": "stdout",
          "output_type": "stream",
          "text": [
            "✅ Message sent to https://t.me/svoilondon\n",
            "⏳ Waiting 167 seconds...\n"
          ]
        },
        {
          "metadata": {
            "tags": null
          },
          "name": "stderr",
          "output_type": "stream",
          "text": [
            "WARNING:telethon.client.users:Telegram is having internal issues PersistentTimestampOutdatedError: Persistent timestamp outdated (caused by GetChannelDifferenceRequest)\n",
            "WARNING:telethon.client.users:Telegram is having internal issues PersistentTimestampOutdatedError: Persistent timestamp outdated (caused by GetChannelDifferenceRequest)\n",
            "WARNING:telethon.client.users:Telegram is having internal issues PersistentTimestampOutdatedError: Persistent timestamp outdated (caused by GetChannelDifferenceRequest)\n",
            "WARNING:telethon.client.users:Telegram is having internal issues PersistentTimestampOutdatedError: Persistent timestamp outdated (caused by GetChannelDifferenceRequest)\n",
            "WARNING:telethon.client.users:Telegram is having internal issues PersistentTimestampOutdatedError: Persistent timestamp outdated (caused by GetChannelDifferenceRequest)\n",
            "WARNING:telethon.client.users:Telegram is having internal issues PersistentTimestampOutdatedError: Persistent timestamp outdated (caused by GetChannelDifferenceRequest)\n",
            "WARNING:telethon.client.users:Telegram is having internal issues PersistentTimestampOutdatedError: Persistent timestamp outdated (caused by GetChannelDifferenceRequest)\n"
          ]
        },
        {
          "metadata": {
            "tags": null
          },
          "name": "stdout",
          "output_type": "stream",
          "text": [
            "✅ Message sent to https://t.me/londontalks_ua\n",
            "⏳ Waiting 137 seconds...\n"
          ]
        },
        {
          "metadata": {
            "tags": null
          },
          "name": "stderr",
          "output_type": "stream",
          "text": [
            "WARNING:telethon.client.users:Telegram is having internal issues PersistentTimestampOutdatedError: Persistent timestamp outdated (caused by GetChannelDifferenceRequest)\n",
            "WARNING:telethon.client.users:Telegram is having internal issues PersistentTimestampOutdatedError: Persistent timestamp outdated (caused by GetChannelDifferenceRequest)\n",
            "WARNING:telethon.client.users:Telegram is having internal issues PersistentTimestampOutdatedError: Persistent timestamp outdated (caused by GetChannelDifferenceRequest)\n"
          ]
        },
        {
          "metadata": {
            "tags": null
          },
          "name": "stdout",
          "output_type": "stream",
          "text": [
            "❌ Error in https://t.me/studentkichatik: You can't write in this chat (caused by SendMessageRequest)\n",
            "⏳ Waiting 145 seconds...\n"
          ]
        },
        {
          "metadata": {
            "tags": null
          },
          "name": "stderr",
          "output_type": "stream",
          "text": [
            "WARNING:telethon.client.users:Telegram is having internal issues PersistentTimestampOutdatedError: Persistent timestamp outdated (caused by GetChannelDifferenceRequest)\n",
            "WARNING:telethon.client.users:Telegram is having internal issues PersistentTimestampOutdatedError: Persistent timestamp outdated (caused by GetChannelDifferenceRequest)\n",
            "WARNING:telethon.client.users:Telegram is having internal issues PersistentTimestampOutdatedError: Persistent timestamp outdated (caused by GetChannelDifferenceRequest)\n",
            "WARNING:telethon.client.users:Telegram is having internal issues PersistentTimestampOutdatedError: Persistent timestamp outdated (caused by GetChannelDifferenceRequest)\n",
            "WARNING:telethon.client.users:Telegram is having internal issues PersistentTimestampOutdatedError: Persistent timestamp outdated (caused by GetChannelDifferenceRequest)\n",
            "WARNING:telethon.client.users:Telegram is having internal issues PersistentTimestampOutdatedError: Persistent timestamp outdated (caused by GetChannelDifferenceRequest)\n"
          ]
        },
        {
          "metadata": {
            "tags": null
          },
          "name": "stdout",
          "output_type": "stream",
          "text": [
            "❌ Error in https://t.me/pasu_parichar2025: You can't write in this chat (caused by SendMessageRequest)\n",
            "⏳ Waiting 154 seconds...\n"
          ]
        },
        {
          "metadata": {
            "tags": null
          },
          "name": "stderr",
          "output_type": "stream",
          "text": [
            "WARNING:telethon.client.users:Telegram is having internal issues PersistentTimestampOutdatedError: Persistent timestamp outdated (caused by GetChannelDifferenceRequest)\n",
            "WARNING:telethon.client.users:Telegram is having internal issues PersistentTimestampOutdatedError: Persistent timestamp outdated (caused by GetChannelDifferenceRequest)\n"
          ]
        },
        {
          "metadata": {
            "tags": null
          },
          "name": "stdout",
          "output_type": "stream",
          "text": [
            "❌ Error in https://t.me/solanarocketschat: You're banned from sending messages in supergroups/channels (caused by SendMessageRequest)\n",
            "⏳ Waiting 149 seconds...\n"
          ]
        },
        {
          "metadata": {
            "tags": null
          },
          "name": "stderr",
          "output_type": "stream",
          "text": [
            "WARNING:telethon.client.users:Telegram is having internal issues PersistentTimestampOutdatedError: Persistent timestamp outdated (caused by GetChannelDifferenceRequest)\n",
            "WARNING:telethon.client.users:Telegram is having internal issues PersistentTimestampOutdatedError: Persistent timestamp outdated (caused by GetChannelDifferenceRequest)\n",
            "WARNING:telethon.client.users:Telegram is having internal issues PersistentTimestampOutdatedError: Persistent timestamp outdated (caused by GetChannelDifferenceRequest)\n"
          ]
        },
        {
          "metadata": {
            "tags": null
          },
          "name": "stdout",
          "output_type": "stream",
          "text": [
            "❌ Error in https://t.me/earningmoneyeth: You're banned from sending messages in supergroups/channels (caused by SendMessageRequest)\n",
            "⏳ Waiting 178 seconds...\n"
          ]
        },
        {
          "metadata": {
            "tags": null
          },
          "name": "stderr",
          "output_type": "stream",
          "text": [
            "WARNING:telethon.client.users:Telegram is having internal issues PersistentTimestampOutdatedError: Persistent timestamp outdated (caused by GetChannelDifferenceRequest)\n",
            "WARNING:telethon.client.users:Telegram is having internal issues PersistentTimestampOutdatedError: Persistent timestamp outdated (caused by GetChannelDifferenceRequest)\n"
          ]
        },
        {
          "metadata": {
            "tags": null
          },
          "name": "stdout",
          "output_type": "stream",
          "text": [
            "❌ Error in https://t.me/freeabyssinia: You can't write in this chat (caused by SendMessageRequest)\n",
            "⏳ Waiting 164 seconds...\n"
          ]
        },
        {
          "metadata": {
            "tags": null
          },
          "name": "stderr",
          "output_type": "stream",
          "text": [
            "WARNING:telethon.client.users:Telegram is having internal issues PersistentTimestampOutdatedError: Persistent timestamp outdated (caused by GetChannelDifferenceRequest)\n",
            "WARNING:telethon.client.users:Telegram is having internal issues PersistentTimestampOutdatedError: Persistent timestamp outdated (caused by GetChannelDifferenceRequest)\n",
            "WARNING:telethon.client.users:Telegram is having internal issues PersistentTimestampOutdatedError: Persistent timestamp outdated (caused by GetChannelDifferenceRequest)\n",
            "WARNING:telethon.client.users:Telegram is having internal issues PersistentTimestampOutdatedError: Persistent timestamp outdated (caused by GetChannelDifferenceRequest)\n"
          ]
        },
        {
          "metadata": {
            "tags": null
          },
          "name": "stdout",
          "output_type": "stream",
          "text": [
            "✅ Account 1: 7/15 groups\n",
            "\n",
            "📱 Account 2 processing...\n",
            "❌ Error in https://t.me/x_1xbet: You can't write in this chat (caused by SendMessageRequest)\n",
            "⏳ Waiting 148 seconds...\n",
            "❌ Error in https://t.me/bocaijiaoliu2: You can't write in this chat (caused by SendMessageRequest)\n",
            "⏳ Waiting 129 seconds...\n"
          ]
        },
        {
          "metadata": {
            "tags": null
          },
          "name": "stderr",
          "output_type": "stream",
          "text": [
            "WARNING:telethon.client.users:Telegram is having internal issues PersistentTimestampOutdatedError: Persistent timestamp outdated (caused by GetChannelDifferenceRequest)\n",
            "WARNING:telethon.client.users:Telegram is having internal issues PersistentTimestampOutdatedError: Persistent timestamp outdated (caused by GetChannelDifferenceRequest)\n",
            "WARNING:telethon.client.users:Telegram is having internal issues PersistentTimestampOutdatedError: Persistent timestamp outdated (caused by GetChannelDifferenceRequest)\n",
            "WARNING:telethon.client.users:Telegram is having internal issues PersistentTimestampOutdatedError: Persistent timestamp outdated (caused by GetChannelDifferenceRequest)\n",
            "WARNING:telethon.client.users:Telegram is having internal issues PersistentTimestampOutdatedError: Persistent timestamp outdated (caused by GetChannelDifferenceRequest)\n",
            "WARNING:telethon.client.users:Telegram is having internal issues PersistentTimestampOutdatedError: Persistent timestamp outdated (caused by GetChannelDifferenceRequest)\n",
            "WARNING:telethon.client.users:Telegram is having internal issues PersistentTimestampOutdatedError: Persistent timestamp outdated (caused by GetChannelDifferenceRequest)\n",
            "WARNING:telethon.client.users:Telegram is having internal issues PersistentTimestampOutdatedError: Persistent timestamp outdated (caused by GetChannelDifferenceRequest)\n"
          ]
        },
        {
          "metadata": {
            "tags": null
          },
          "name": "stdout",
          "output_type": "stream",
          "text": [
            "✅ Message sent to https://t.me/kramaGroup\n",
            "⏳ Waiting 180 seconds...\n"
          ]
        },
        {
          "metadata": {
            "tags": null
          },
          "name": "stderr",
          "output_type": "stream",
          "text": [
            "WARNING:telethon.client.users:Telegram is having internal issues PersistentTimestampOutdatedError: Persistent timestamp outdated (caused by GetChannelDifferenceRequest)\n",
            "WARNING:telethon.client.users:Telegram is having internal issues PersistentTimestampOutdatedError: Persistent timestamp outdated (caused by GetChannelDifferenceRequest)\n",
            "WARNING:telethon.client.users:Telegram is having internal issues PersistentTimestampOutdatedError: Persistent timestamp outdated (caused by GetChannelDifferenceRequest)\n",
            "WARNING:telethon.client.users:Telegram is having internal issues PersistentTimestampOutdatedError: Persistent timestamp outdated (caused by GetChannelDifferenceRequest)\n",
            "WARNING:telethon.client.users:Telegram is having internal issues PersistentTimestampOutdatedError: Persistent timestamp outdated (caused by GetChannelDifferenceRequest)\n",
            "WARNING:telethon.client.users:Telegram is having internal issues PersistentTimestampOutdatedError: Persistent timestamp outdated (caused by GetChannelDifferenceRequest)\n",
            "WARNING:telethon.client.users:Telegram is having internal issues PersistentTimestampOutdatedError: Persistent timestamp outdated (caused by GetChannelDifferenceRequest)\n",
            "WARNING:telethon.client.users:Telegram is having internal issues PersistentTimestampOutdatedError: Persistent timestamp outdated (caused by GetChannelDifferenceRequest)\n"
          ]
        },
        {
          "metadata": {
            "tags": null
          },
          "name": "stdout",
          "output_type": "stream",
          "text": [
            "❌ Error in https://t.me/cross_promotions1: You can't write in this chat (caused by SendMessageRequest)\n",
            "⏳ Waiting 130 seconds...\n"
          ]
        },
        {
          "metadata": {
            "tags": null
          },
          "name": "stderr",
          "output_type": "stream",
          "text": [
            "WARNING:telethon.client.users:Telegram is having internal issues PersistentTimestampOutdatedError: Persistent timestamp outdated (caused by GetChannelDifferenceRequest)\n",
            "WARNING:telethon.client.users:Telegram is having internal issues PersistentTimestampOutdatedError: Persistent timestamp outdated (caused by GetChannelDifferenceRequest)\n",
            "WARNING:telethon.client.users:Telegram is having internal issues PersistentTimestampOutdatedError: Persistent timestamp outdated (caused by GetChannelDifferenceRequest)\n",
            "WARNING:telethon.client.users:Telegram is having internal issues PersistentTimestampOutdatedError: Persistent timestamp outdated (caused by GetChannelDifferenceRequest)\n",
            "WARNING:telethon.client.users:Telegram is having internal issues PersistentTimestampOutdatedError: Persistent timestamp outdated (caused by GetChannelDifferenceRequest)\n"
          ]
        },
        {
          "metadata": {
            "tags": null
          },
          "name": "stdout",
          "output_type": "stream",
          "text": [
            "❌ Error in https://t.me/jobs_khmer: You're banned from sending messages in supergroups/channels (caused by SendMessageRequest)\n",
            "⏳ Waiting 175 seconds...\n"
          ]
        },
        {
          "metadata": {
            "tags": null
          },
          "name": "stderr",
          "output_type": "stream",
          "text": [
            "WARNING:telethon.client.users:Telegram is having internal issues PersistentTimestampOutdatedError: Persistent timestamp outdated (caused by GetChannelDifferenceRequest)\n",
            "WARNING:telethon.client.users:Telegram is having internal issues PersistentTimestampOutdatedError: Persistent timestamp outdated (caused by GetChannelDifferenceRequest)\n"
          ]
        },
        {
          "metadata": {
            "tags": null
          },
          "name": "stdout",
          "output_type": "stream",
          "text": [
            "❌ Error in https://t.me/Radiklar_tanishuvlar1: You're banned from sending messages in supergroups/channels (caused by SendMessageRequest)\n",
            "⏳ Waiting 120 seconds...\n"
          ]
        },
        {
          "metadata": {
            "tags": null
          },
          "name": "stderr",
          "output_type": "stream",
          "text": [
            "WARNING:telethon.client.users:Telegram is having internal issues PersistentTimestampOutdatedError: Persistent timestamp outdated (caused by GetChannelDifferenceRequest)\n",
            "WARNING:telethon.client.users:Telegram is having internal issues PersistentTimestampOutdatedError: Persistent timestamp outdated (caused by GetChannelDifferenceRequest)\n"
          ]
        },
        {
          "metadata": {
            "tags": null
          },
          "name": "stdout",
          "output_type": "stream",
          "text": [
            "❌ Error in https://t.me/friendshub03: You can't write in this chat (caused by SendMessageRequest)\n",
            "⏳ Waiting 176 seconds...\n"
          ]
        },
        {
          "metadata": {
            "tags": null
          },
          "name": "stderr",
          "output_type": "stream",
          "text": [
            "WARNING:telethon.client.users:Telegram is having internal issues PersistentTimestampOutdatedError: Persistent timestamp outdated (caused by GetChannelDifferenceRequest)\n",
            "WARNING:telethon.client.users:Telegram is having internal issues PersistentTimestampOutdatedError: Persistent timestamp outdated (caused by GetChannelDifferenceRequest)\n"
          ]
        },
        {
          "metadata": {
            "tags": null
          },
          "name": "stdout",
          "output_type": "stream",
          "text": [
            "❌ Error in https://t.me/UA_servis_UK: You can't write in this chat (caused by SendMessageRequest)\n",
            "⏳ Waiting 162 seconds...\n"
          ]
        },
        {
          "metadata": {
            "tags": null
          },
          "name": "stderr",
          "output_type": "stream",
          "text": [
            "WARNING:telethon.client.users:Telegram is having internal issues PersistentTimestampOutdatedError: Persistent timestamp outdated (caused by GetChannelDifferenceRequest)\n"
          ]
        },
        {
          "metadata": {
            "tags": null
          },
          "name": "stdout",
          "output_type": "stream",
          "text": [
            "❌ Error in https://t.me/svoilondon: You can't write in this chat (caused by SendMessageRequest)\n",
            "⏳ Waiting 167 seconds...\n"
          ]
        },
        {
          "metadata": {
            "tags": null
          },
          "name": "stderr",
          "output_type": "stream",
          "text": [
            "WARNING:telethon.client.users:Telegram is having internal issues PersistentTimestampOutdatedError: Persistent timestamp outdated (caused by GetChannelDifferenceRequest)\n",
            "WARNING:telethon.client.users:Telegram is having internal issues PersistentTimestampOutdatedError: Persistent timestamp outdated (caused by GetChannelDifferenceRequest)\n",
            "WARNING:telethon.client.users:Telegram is having internal issues PersistentTimestampOutdatedError: Persistent timestamp outdated (caused by GetChannelDifferenceRequest)\n",
            "WARNING:telethon.client.users:Telegram is having internal issues PersistentTimestampOutdatedError: Persistent timestamp outdated (caused by GetChannelDifferenceRequest)\n",
            "WARNING:telethon.client.users:Telegram is having internal issues PersistentTimestampOutdatedError: Persistent timestamp outdated (caused by GetChannelDifferenceRequest)\n",
            "WARNING:telethon.client.users:Telegram is having internal issues PersistentTimestampOutdatedError: Persistent timestamp outdated (caused by GetChannelDifferenceRequest)\n"
          ]
        },
        {
          "metadata": {
            "tags": null
          },
          "name": "stdout",
          "output_type": "stream",
          "text": [
            "❌ Error in https://t.me/londontalks_ua: You can't write in this chat (caused by SendMessageRequest)\n",
            "⏳ Waiting 156 seconds...\n"
          ]
        },
        {
          "metadata": {
            "tags": null
          },
          "name": "stderr",
          "output_type": "stream",
          "text": [
            "WARNING:telethon.client.users:Telegram is having internal issues PersistentTimestampOutdatedError: Persistent timestamp outdated (caused by GetChannelDifferenceRequest)\n",
            "WARNING:telethon.client.users:Telegram is having internal issues PersistentTimestampOutdatedError: Persistent timestamp outdated (caused by GetChannelDifferenceRequest)\n"
          ]
        },
        {
          "metadata": {
            "tags": null
          },
          "name": "stdout",
          "output_type": "stream",
          "text": [
            "✅ Message sent to https://t.me/studentkichatik\n",
            "⏳ Waiting 139 seconds...\n"
          ]
        },
        {
          "metadata": {
            "tags": null
          },
          "name": "stderr",
          "output_type": "stream",
          "text": [
            "WARNING:telethon.client.users:Telegram is having internal issues PersistentTimestampOutdatedError: Persistent timestamp outdated (caused by GetChannelDifferenceRequest)\n",
            "WARNING:telethon.client.users:Telegram is having internal issues PersistentTimestampOutdatedError: Persistent timestamp outdated (caused by GetChannelDifferenceRequest)\n",
            "WARNING:telethon.client.users:Telegram is having internal issues PersistentTimestampOutdatedError: Persistent timestamp outdated (caused by GetChannelDifferenceRequest)\n",
            "WARNING:telethon.client.users:Telegram is having internal issues PersistentTimestampOutdatedError: Persistent timestamp outdated (caused by GetChannelDifferenceRequest)\n"
          ]
        },
        {
          "metadata": {
            "tags": null
          },
          "name": "stdout",
          "output_type": "stream",
          "text": [
            "✅ Message sent to https://t.me/pasu_parichar2025\n",
            "⏳ Waiting 120 seconds...\n"
          ]
        },
        {
          "metadata": {
            "tags": null
          },
          "name": "stderr",
          "output_type": "stream",
          "text": [
            "WARNING:telethon.client.users:Telegram is having internal issues PersistentTimestampOutdatedError: Persistent timestamp outdated (caused by GetChannelDifferenceRequest)\n",
            "WARNING:telethon.client.users:Telegram is having internal issues PersistentTimestampOutdatedError: Persistent timestamp outdated (caused by GetChannelDifferenceRequest)\n",
            "WARNING:telethon.client.users:Telegram is having internal issues PersistentTimestampOutdatedError: Persistent timestamp outdated (caused by GetChannelDifferenceRequest)\n",
            "WARNING:telethon.client.users:Telegram is having internal issues PersistentTimestampOutdatedError: Persistent timestamp outdated (caused by GetChannelDifferenceRequest)\n",
            "WARNING:telethon.client.users:Telegram is having internal issues PersistentTimestampOutdatedError: Persistent timestamp outdated (caused by GetChannelDifferenceRequest)\n",
            "WARNING:telethon.client.users:Telegram is having internal issues PersistentTimestampOutdatedError: Persistent timestamp outdated (caused by GetChannelDifferenceRequest)\n"
          ]
        },
        {
          "metadata": {
            "tags": null
          },
          "name": "stdout",
          "output_type": "stream",
          "text": [
            "❌ Error in https://t.me/solanarocketschat: You're banned from sending messages in supergroups/channels (caused by SendMessageRequest)\n",
            "⏳ Waiting 155 seconds...\n"
          ]
        },
        {
          "metadata": {
            "tags": null
          },
          "name": "stderr",
          "output_type": "stream",
          "text": [
            "WARNING:telethon.client.users:Telegram is having internal issues PersistentTimestampOutdatedError: Persistent timestamp outdated (caused by GetChannelDifferenceRequest)\n",
            "WARNING:telethon.client.users:Telegram is having internal issues PersistentTimestampOutdatedError: Persistent timestamp outdated (caused by GetChannelDifferenceRequest)\n",
            "WARNING:telethon.client.users:Telegram is having internal issues PersistentTimestampOutdatedError: Persistent timestamp outdated (caused by GetChannelDifferenceRequest)\n",
            "WARNING:telethon.client.users:Telegram is having internal issues PersistentTimestampOutdatedError: Persistent timestamp outdated (caused by GetChannelDifferenceRequest)\n",
            "WARNING:telethon.client.users:Telegram is having internal issues PersistentTimestampOutdatedError: Persistent timestamp outdated (caused by GetChannelDifferenceRequest)\n",
            "WARNING:telethon.client.users:Telegram is having internal issues PersistentTimestampOutdatedError: Persistent timestamp outdated (caused by GetChannelDifferenceRequest)\n",
            "WARNING:telethon.client.users:Telegram is having internal issues PersistentTimestampOutdatedError: Persistent timestamp outdated (caused by GetChannelDifferenceRequest)\n"
          ]
        },
        {
          "metadata": {
            "tags": null
          },
          "name": "stdout",
          "output_type": "stream",
          "text": [
            "❌ Error in https://t.me/earningmoneyeth: You're banned from sending messages in supergroups/channels (caused by SendMessageRequest)\n",
            "⏳ Waiting 153 seconds...\n"
          ]
        },
        {
          "metadata": {
            "tags": null
          },
          "name": "stderr",
          "output_type": "stream",
          "text": [
            "WARNING:telethon.client.users:Telegram is having internal issues PersistentTimestampOutdatedError: Persistent timestamp outdated (caused by GetChannelDifferenceRequest)\n"
          ]
        },
        {
          "metadata": {
            "tags": null
          },
          "name": "stdout",
          "output_type": "stream",
          "text": [
            "✅ Message sent to https://t.me/freeabyssinia\n",
            "⏳ Waiting 155 seconds...\n"
          ]
        },
        {
          "metadata": {
            "tags": null
          },
          "name": "stderr",
          "output_type": "stream",
          "text": [
            "WARNING:telethon.client.users:Telegram is having internal issues PersistentTimestampOutdatedError: Persistent timestamp outdated (caused by GetChannelDifferenceRequest)\n",
            "WARNING:telethon.client.users:Telegram is having internal issues PersistentTimestampOutdatedError: Persistent timestamp outdated (caused by GetChannelDifferenceRequest)\n",
            "WARNING:telethon.client.users:Telegram is having internal issues PersistentTimestampOutdatedError: Persistent timestamp outdated (caused by GetChannelDifferenceRequest)\n"
          ]
        },
        {
          "metadata": {
            "tags": null
          },
          "name": "stdout",
          "output_type": "stream",
          "text": [
            "✅ Account 2: 4/15 groups\n",
            "\n",
            "📱 Account 3 processing...\n",
            "❌ Error in https://t.me/x_1xbet: You can't write in this chat (caused by SendMessageRequest)\n",
            "⏳ Waiting 122 seconds...\n"
          ]
        },
        {
          "metadata": {
            "tags": null
          },
          "name": "stderr",
          "output_type": "stream",
          "text": [
            "WARNING:telethon.client.users:Telegram is having internal issues PersistentTimestampOutdatedError: Persistent timestamp outdated (caused by GetChannelDifferenceRequest)\n",
            "WARNING:telethon.client.users:Telegram is having internal issues PersistentTimestampOutdatedError: Persistent timestamp outdated (caused by GetChannelDifferenceRequest)\n",
            "WARNING:telethon.client.users:Telegram is having internal issues PersistentTimestampOutdatedError: Persistent timestamp outdated (caused by GetChannelDifferenceRequest)\n",
            "WARNING:telethon.client.users:Telegram is having internal issues PersistentTimestampOutdatedError: Persistent timestamp outdated (caused by GetChannelDifferenceRequest)\n",
            "WARNING:telethon.client.users:Telegram is having internal issues PersistentTimestampOutdatedError: Persistent timestamp outdated (caused by GetChannelDifferenceRequest)\n",
            "WARNING:telethon.client.users:Telegram is having internal issues PersistentTimestampOutdatedError: Persistent timestamp outdated (caused by GetChannelDifferenceRequest)\n",
            "WARNING:telethon.client.users:Telegram is having internal issues PersistentTimestampOutdatedError: Persistent timestamp outdated (caused by GetChannelDifferenceRequest)\n",
            "WARNING:telethon.client.users:Telegram is having internal issues PersistentTimestampOutdatedError: Persistent timestamp outdated (caused by GetChannelDifferenceRequest)\n"
          ]
        },
        {
          "metadata": {
            "tags": null
          },
          "name": "stdout",
          "output_type": "stream",
          "text": [
            "❌ Error in https://t.me/bocaijiaoliu2: You can't write in this chat (caused by SendMessageRequest)\n",
            "⏳ Waiting 157 seconds...\n"
          ]
        },
        {
          "metadata": {
            "tags": null
          },
          "name": "stderr",
          "output_type": "stream",
          "text": [
            "WARNING:telethon.client.users:Telegram is having internal issues PersistentTimestampOutdatedError: Persistent timestamp outdated (caused by GetChannelDifferenceRequest)\n",
            "WARNING:telethon.client.users:Telegram is having internal issues PersistentTimestampOutdatedError: Persistent timestamp outdated (caused by GetChannelDifferenceRequest)\n",
            "WARNING:telethon.client.users:Telegram is having internal issues PersistentTimestampOutdatedError: Persistent timestamp outdated (caused by GetChannelDifferenceRequest)\n",
            "WARNING:telethon.client.users:Telegram is having internal issues PersistentTimestampOutdatedError: Persistent timestamp outdated (caused by GetChannelDifferenceRequest)\n",
            "WARNING:telethon.client.users:Telegram is having internal issues PersistentTimestampOutdatedError: Persistent timestamp outdated (caused by GetChannelDifferenceRequest)\n",
            "WARNING:telethon.client.users:Telegram is having internal issues PersistentTimestampOutdatedError: Persistent timestamp outdated (caused by GetChannelDifferenceRequest)\n",
            "WARNING:telethon.client.users:Telegram is having internal issues PersistentTimestampOutdatedError: Persistent timestamp outdated (caused by GetChannelDifferenceRequest)\n",
            "WARNING:telethon.client.users:Telegram is having internal issues PersistentTimestampOutdatedError: Persistent timestamp outdated (caused by GetChannelDifferenceRequest)\n",
            "WARNING:telethon.client.users:Telegram is having internal issues PersistentTimestampOutdatedError: Persistent timestamp outdated (caused by GetChannelDifferenceRequest)\n",
            "WARNING:telethon.client.users:Telegram is having internal issues PersistentTimestampOutdatedError: Persistent timestamp outdated (caused by GetChannelDifferenceRequest)\n"
          ]
        },
        {
          "metadata": {
            "tags": null
          },
          "name": "stdout",
          "output_type": "stream",
          "text": [
            "✅ Message sent to https://t.me/kramaGroup\n",
            "⏳ Waiting 172 seconds...\n"
          ]
        },
        {
          "metadata": {
            "tags": null
          },
          "name": "stderr",
          "output_type": "stream",
          "text": [
            "WARNING:telethon.client.users:Telegram is having internal issues PersistentTimestampOutdatedError: Persistent timestamp outdated (caused by GetChannelDifferenceRequest)\n",
            "WARNING:telethon.client.users:Telegram is having internal issues PersistentTimestampOutdatedError: Persistent timestamp outdated (caused by GetChannelDifferenceRequest)\n",
            "WARNING:telethon.client.users:Telegram is having internal issues PersistentTimestampOutdatedError: Persistent timestamp outdated (caused by GetChannelDifferenceRequest)\n",
            "WARNING:telethon.client.users:Telegram is having internal issues PersistentTimestampOutdatedError: Persistent timestamp outdated (caused by GetChannelDifferenceRequest)\n"
          ]
        },
        {
          "metadata": {
            "tags": null
          },
          "name": "stdout",
          "output_type": "stream",
          "text": [
            "❌ Error in https://t.me/cross_promotions1: You can't write in this chat (caused by SendMessageRequest)\n",
            "⏳ Waiting 140 seconds...\n"
          ]
        },
        {
          "metadata": {
            "tags": null
          },
          "name": "stderr",
          "output_type": "stream",
          "text": [
            "WARNING:telethon.client.users:Telegram is having internal issues PersistentTimestampOutdatedError: Persistent timestamp outdated (caused by GetChannelDifferenceRequest)\n",
            "WARNING:telethon.client.users:Telegram is having internal issues PersistentTimestampOutdatedError: Persistent timestamp outdated (caused by GetChannelDifferenceRequest)\n",
            "WARNING:telethon.client.users:Telegram is having internal issues PersistentTimestampOutdatedError: Persistent timestamp outdated (caused by GetChannelDifferenceRequest)\n"
          ]
        },
        {
          "metadata": {
            "tags": null
          },
          "name": "stdout",
          "output_type": "stream",
          "text": [
            "✅ Message sent to https://t.me/jobs_khmer\n",
            "⏳ Waiting 166 seconds...\n"
          ]
        },
        {
          "metadata": {
            "tags": null
          },
          "name": "stderr",
          "output_type": "stream",
          "text": [
            "WARNING:telethon.client.users:Telegram is having internal issues PersistentTimestampOutdatedError: Persistent timestamp outdated (caused by GetChannelDifferenceRequest)\n",
            "WARNING:telethon.client.users:Telegram is having internal issues PersistentTimestampOutdatedError: Persistent timestamp outdated (caused by GetChannelDifferenceRequest)\n",
            "WARNING:telethon.client.users:Telegram is having internal issues PersistentTimestampOutdatedError: Persistent timestamp outdated (caused by GetChannelDifferenceRequest)\n"
          ]
        },
        {
          "metadata": {
            "tags": null
          },
          "name": "stdout",
          "output_type": "stream",
          "text": [
            "✅ Message sent to https://t.me/Radiklar_tanishuvlar1\n",
            "⏳ Waiting 145 seconds...\n"
          ]
        },
        {
          "metadata": {
            "tags": null
          },
          "name": "stderr",
          "output_type": "stream",
          "text": [
            "WARNING:telethon.client.users:Telegram is having internal issues PersistentTimestampOutdatedError: Persistent timestamp outdated (caused by GetChannelDifferenceRequest)\n",
            "WARNING:telethon.client.users:Telegram is having internal issues PersistentTimestampOutdatedError: Persistent timestamp outdated (caused by GetChannelDifferenceRequest)\n",
            "WARNING:telethon.client.users:Telegram is having internal issues PersistentTimestampOutdatedError: Persistent timestamp outdated (caused by GetChannelDifferenceRequest)\n"
          ]
        },
        {
          "metadata": {
            "tags": null
          },
          "name": "stdout",
          "output_type": "stream",
          "text": [
            "❌ Error in https://t.me/friendshub03: You can't write in this chat (caused by SendMessageRequest)\n",
            "⏳ Waiting 129 seconds...\n"
          ]
        },
        {
          "metadata": {
            "tags": null
          },
          "name": "stderr",
          "output_type": "stream",
          "text": [
            "WARNING:telethon.client.users:Telegram is having internal issues PersistentTimestampOutdatedError: Persistent timestamp outdated (caused by GetChannelDifferenceRequest)\n"
          ]
        },
        {
          "metadata": {
            "tags": null
          },
          "name": "stdout",
          "output_type": "stream",
          "text": [
            "❌ Error in https://t.me/UA_servis_UK: You can't write in this chat (caused by SendMessageRequest)\n",
            "⏳ Waiting 135 seconds...\n"
          ]
        },
        {
          "metadata": {
            "tags": null
          },
          "name": "stderr",
          "output_type": "stream",
          "text": [
            "WARNING:telethon.client.users:Telegram is having internal issues PersistentTimestampOutdatedError: Persistent timestamp outdated (caused by GetChannelDifferenceRequest)\n",
            "WARNING:telethon.client.users:Telegram is having internal issues PersistentTimestampOutdatedError: Persistent timestamp outdated (caused by GetChannelDifferenceRequest)\n",
            "WARNING:telethon.client.users:Telegram is having internal issues PersistentTimestampOutdatedError: Persistent timestamp outdated (caused by GetChannelDifferenceRequest)\n",
            "WARNING:telethon.client.users:Telegram is having internal issues PersistentTimestampOutdatedError: Persistent timestamp outdated (caused by GetChannelDifferenceRequest)\n"
          ]
        },
        {
          "metadata": {
            "tags": null
          },
          "name": "stdout",
          "output_type": "stream",
          "text": [
            "❌ Error in https://t.me/svoilondon: You can't write in this chat (caused by SendMessageRequest)\n",
            "⏳ Waiting 160 seconds...\n"
          ]
        },
        {
          "metadata": {
            "tags": null
          },
          "name": "stderr",
          "output_type": "stream",
          "text": [
            "WARNING:telethon.client.users:Telegram is having internal issues PersistentTimestampOutdatedError: Persistent timestamp outdated (caused by GetChannelDifferenceRequest)\n",
            "WARNING:telethon.client.users:Telegram is having internal issues PersistentTimestampOutdatedError: Persistent timestamp outdated (caused by GetChannelDifferenceRequest)\n"
          ]
        },
        {
          "metadata": {
            "tags": null
          },
          "name": "stdout",
          "output_type": "stream",
          "text": [
            "❌ Error in https://t.me/londontalks_ua: You can't write in this chat (caused by SendMessageRequest)\n",
            "⏳ Waiting 162 seconds...\n"
          ]
        },
        {
          "metadata": {
            "tags": null
          },
          "name": "stderr",
          "output_type": "stream",
          "text": [
            "WARNING:telethon.client.users:Telegram is having internal issues PersistentTimestampOutdatedError: Persistent timestamp outdated (caused by GetChannelDifferenceRequest)\n",
            "WARNING:telethon.client.users:Telegram is having internal issues PersistentTimestampOutdatedError: Persistent timestamp outdated (caused by GetChannelDifferenceRequest)\n"
          ]
        },
        {
          "metadata": {
            "tags": null
          },
          "name": "stdout",
          "output_type": "stream",
          "text": [
            "✅ Message sent to https://t.me/studentkichatik\n",
            "⏳ Waiting 122 seconds...\n"
          ]
        },
        {
          "metadata": {
            "tags": null
          },
          "name": "stderr",
          "output_type": "stream",
          "text": [
            "WARNING:telethon.client.users:Telegram is having internal issues PersistentTimestampOutdatedError: Persistent timestamp outdated (caused by GetChannelDifferenceRequest)\n"
          ]
        },
        {
          "metadata": {
            "tags": null
          },
          "name": "stdout",
          "output_type": "stream",
          "text": [
            "✅ Message sent to https://t.me/pasu_parichar2025\n",
            "⏳ Waiting 127 seconds...\n"
          ]
        },
        {
          "metadata": {
            "tags": null
          },
          "name": "stderr",
          "output_type": "stream",
          "text": [
            "WARNING:telethon.client.users:Telegram is having internal issues PersistentTimestampOutdatedError: Persistent timestamp outdated (caused by GetChannelDifferenceRequest)\n"
          ]
        },
        {
          "metadata": {
            "tags": null
          },
          "name": "stdout",
          "output_type": "stream",
          "text": [
            "✅ Message sent to https://t.me/solanarocketschat\n",
            "⏳ Waiting 130 seconds...\n"
          ]
        },
        {
          "metadata": {
            "tags": null
          },
          "name": "stderr",
          "output_type": "stream",
          "text": [
            "WARNING:telethon.client.users:Telegram is having internal issues PersistentTimestampOutdatedError: Persistent timestamp outdated (caused by GetChannelDifferenceRequest)\n",
            "WARNING:telethon.client.users:Telegram is having internal issues PersistentTimestampOutdatedError: Persistent timestamp outdated (caused by GetChannelDifferenceRequest)\n",
            "WARNING:telethon.client.users:Telegram is having internal issues PersistentTimestampOutdatedError: Persistent timestamp outdated (caused by GetChannelDifferenceRequest)\n",
            "WARNING:telethon.client.messageparse:Request SendMessageRequest(peer=InputPeerChannel(channel_id=2189777641, access_hash=-1423908176587345952), message='💰 GET 500% WELCOME BONUS! 🎯\\n1Win par abhi register karo aur 500% bonus pao! 💸\\nPromocode: OGGY use karo! 🎁\\nLive Betting ⚡ | 24/7 Support 📞\\n\\n🔗 https://lkxd.cc/98a4\\n🔥 Promocode: OGGY\\n\\n#WinBig #OGGY', no_webpage=False, silent=None, background=None, clear_draft=False, noforwards=None, update_stickersets_order=None, invert_media=None, allow_paid_floodskip=None, reply_to=None, random_id=-4908949112967948816, reply_markup=None, entities=[], schedule_date=None, send_as=None, quick_reply_shortcut=None, effect=None, allow_paid_stars=None, suggested_post=None) had missing message mapping Updates(updates=[UpdateReadChannelInbox(channel_id=2189777641, max_id=23939, still_unread_count=0, pts=44661, folder_id=None), UpdateNewChannelMessage(message=MessageEmpty(id=23939, peer_id=PeerChannel(channel_id=2189777641)), pts=44662, pts_count=0)], users=[], chats=[Channel(id=2189777641, title='Online jobs', photo=ChatPhoto(photo_id=5983403182002391031, dc_id=4, has_video=False, stripped_thumb=b'\\x01\\x08\\x08b\\xc8\\xa21\\xd3?Z(\\xa2\\xa8\\x83'), date=datetime.datetime(2024, 8, 21, 2, 12, 32, tzinfo=datetime.timezone.utc), creator=False, left=True, broadcast=False, verified=False, megagroup=True, restricted=False, signatures=False, min=False, scam=False, has_link=True, has_geo=False, slowmode_enabled=False, call_active=False, call_not_empty=False, fake=False, gigagroup=False, noforwards=False, join_to_send=False, join_request=False, forum=False, stories_hidden=False, stories_hidden_min=True, stories_unavailable=True, signature_profiles=False, autotranslation=False, broadcast_messages_allowed=False, monoforum=False, forum_tabs=False, access_hash=-1423908176587345952, username='earningmoneyeth', restriction_reason=[], admin_rights=None, banned_rights=None, default_banned_rights=ChatBannedRights(until_date=datetime.datetime(2038, 1, 19, 3, 14, 7, tzinfo=datetime.timezone.utc), view_messages=False, send_messages=False, send_media=False, send_stickers=False, send_gifs=False, send_games=False, send_inline=False, embed_links=True, send_polls=True, change_info=True, invite_users=False, pin_messages=True, manage_topics=False, send_photos=False, send_videos=False, send_roundvideos=True, send_audios=False, send_voices=True, send_docs=False, send_plain=False), participants_count=None, usernames=[], stories_max_id=None, color=None, profile_color=None, emoji_status=None, level=None, subscription_until_date=None, bot_verification_icon=None, send_paid_messages_stars=None, linked_monoforum_id=None)], date=datetime.datetime(2025, 10, 8, 9, 23, 28, tzinfo=datetime.timezone.utc), seq=0)\n"
          ]
        },
        {
          "metadata": {
            "tags": null
          },
          "name": "stdout",
          "output_type": "stream",
          "text": [
            "✅ Message sent to https://t.me/earningmoneyeth\n",
            "⏳ Waiting 173 seconds...\n"
          ]
        },
        {
          "metadata": {
            "tags": null
          },
          "name": "stderr",
          "output_type": "stream",
          "text": [
            "WARNING:telethon.client.users:Telegram is having internal issues PersistentTimestampOutdatedError: Persistent timestamp outdated (caused by GetChannelDifferenceRequest)\n",
            "WARNING:telethon.client.users:Telegram is having internal issues PersistentTimestampOutdatedError: Persistent timestamp outdated (caused by GetChannelDifferenceRequest)\n",
            "WARNING:telethon.client.users:Telegram is having internal issues PersistentTimestampOutdatedError: Persistent timestamp outdated (caused by GetChannelDifferenceRequest)\n",
            "WARNING:telethon.client.users:Telegram is having internal issues PersistentTimestampOutdatedError: Persistent timestamp outdated (caused by GetChannelDifferenceRequest)\n",
            "WARNING:telethon.client.users:Telegram is having internal issues PersistentTimestampOutdatedError: Persistent timestamp outdated (caused by GetChannelDifferenceRequest)\n"
          ]
        },
        {
          "metadata": {
            "tags": null
          },
          "name": "stdout",
          "output_type": "stream",
          "text": [
            "✅ Message sent to https://t.me/freeabyssinia\n",
            "⏳ Waiting 120 seconds...\n"
          ]
        },
        {
          "metadata": {
            "tags": null
          },
          "name": "stderr",
          "output_type": "stream",
          "text": [
            "WARNING:telethon.client.users:Telegram is having internal issues PersistentTimestampOutdatedError: Persistent timestamp outdated (caused by GetChannelDifferenceRequest)\n",
            "WARNING:telethon.client.users:Telegram is having internal issues PersistentTimestampOutdatedError: Persistent timestamp outdated (caused by GetChannelDifferenceRequest)\n",
            "WARNING:telethon.client.users:Telegram is having internal issues PersistentTimestampOutdatedError: Persistent timestamp outdated (caused by GetChannelDifferenceRequest)\n",
            "WARNING:telethon.client.users:Telegram is having internal issues PersistentTimestampOutdatedError: Persistent timestamp outdated (caused by GetChannelDifferenceRequest)\n"
          ]
        },
        {
          "metadata": {
            "tags": null
          },
          "name": "stdout",
          "output_type": "stream",
          "text": [
            "✅ Account 3: 8/15 groups\n",
            "\n",
            "🎉 Hourly broadcast completed! Total: 19 messages sent\n",
            "\n",
            "⏰ Next broadcast at: 09:28:23\n"
          ]
        },
        {
          "output_type": "stream",
          "name": "stderr",
          "text": [
            "WARNING:telethon.client.users:Telegram is having internal issues PersistentTimestampOutdatedError: Persistent timestamp outdated (caused by GetChannelDifferenceRequest)\n",
            "WARNING:telethon.client.users:Telegram is having internal issues PersistentTimestampOutdatedError: Persistent timestamp outdated (caused by GetChannelDifferenceRequest)\n",
            "WARNING:telethon.client.users:Telegram is having internal issues PersistentTimestampOutdatedError: Persistent timestamp outdated (caused by GetChannelDifferenceRequest)\n",
            "WARNING:telethon.client.users:Telegram is having internal issues PersistentTimestampOutdatedError: Persistent timestamp outdated (caused by GetChannelDifferenceRequest)\n",
            "WARNING:telethon.client.users:Telegram is having internal issues PersistentTimestampOutdatedError: Persistent timestamp outdated (caused by GetChannelDifferenceRequest)\n",
            "WARNING:telethon.client.users:Telegram is having internal issues PersistentTimestampOutdatedError: Persistent timestamp outdated (caused by GetChannelDifferenceRequest)\n",
            "WARNING:telethon.client.users:Telegram is having internal issues PersistentTimestampOutdatedError: Persistent timestamp outdated (caused by GetChannelDifferenceRequest)\n",
            "WARNING:telethon.client.users:Telegram is having internal issues PersistentTimestampOutdatedError: Persistent timestamp outdated (caused by GetChannelDifferenceRequest)\n",
            "WARNING:telethon.client.users:Telegram is having internal issues PersistentTimestampOutdatedError: Persistent timestamp outdated (caused by GetChannelDifferenceRequest)\n",
            "WARNING:telethon.client.users:Telegram is having internal issues PersistentTimestampOutdatedError: Persistent timestamp outdated (caused by GetChannelDifferenceRequest)\n",
            "WARNING:telethon.client.users:Telegram is having internal issues PersistentTimestampOutdatedError: Persistent timestamp outdated (caused by GetChannelDifferenceRequest)\n",
            "WARNING:telethon.client.users:Telegram is having internal issues PersistentTimestampOutdatedError: Persistent timestamp outdated (caused by GetChannelDifferenceRequest)\n",
            "WARNING:telethon.client.users:Telegram is having internal issues PersistentTimestampOutdatedError: Persistent timestamp outdated (caused by GetChannelDifferenceRequest)\n",
            "WARNING:telethon.client.users:Telegram is having internal issues PersistentTimestampOutdatedError: Persistent timestamp outdated (caused by GetChannelDifferenceRequest)\n",
            "WARNING:telethon.client.users:Telegram is having internal issues PersistentTimestampOutdatedError: Persistent timestamp outdated (caused by GetChannelDifferenceRequest)\n",
            "WARNING:telethon.client.users:Telegram is having internal issues PersistentTimestampOutdatedError: Persistent timestamp outdated (caused by GetChannelDifferenceRequest)\n",
            "WARNING:telethon.client.users:Telegram is having internal issues PersistentTimestampOutdatedError: Persistent timestamp outdated (caused by GetChannelDifferenceRequest)\n",
            "WARNING:telethon.client.users:Telegram is having internal issues PersistentTimestampOutdatedError: Persistent timestamp outdated (caused by GetChannelDifferenceRequest)\n",
            "WARNING:telethon.client.users:Telegram is having internal issues PersistentTimestampOutdatedError: Persistent timestamp outdated (caused by GetChannelDifferenceRequest)\n",
            "WARNING:telethon.client.users:Telegram is having internal issues PersistentTimestampOutdatedError: Persistent timestamp outdated (caused by GetChannelDifferenceRequest)\n",
            "WARNING:telethon.client.users:Telegram is having internal issues PersistentTimestampOutdatedError: Persistent timestamp outdated (caused by GetChannelDifferenceRequest)\n",
            "WARNING:telethon.client.users:Telegram is having internal issues PersistentTimestampOutdatedError: Persistent timestamp outdated (caused by GetChannelDifferenceRequest)\n",
            "WARNING:telethon.client.users:Telegram is having internal issues PersistentTimestampOutdatedError: Persistent timestamp outdated (caused by GetChannelDifferenceRequest)\n",
            "WARNING:telethon.client.users:Telegram is having internal issues PersistentTimestampOutdatedError: Persistent timestamp outdated (caused by GetChannelDifferenceRequest)\n",
            "WARNING:telethon.client.users:Telegram is having internal issues PersistentTimestampOutdatedError: Persistent timestamp outdated (caused by GetChannelDifferenceRequest)\n",
            "WARNING:telethon.client.users:Telegram is having internal issues PersistentTimestampOutdatedError: Persistent timestamp outdated (caused by GetChannelDifferenceRequest)\n",
            "WARNING:telethon.client.users:Telegram is having internal issues PersistentTimestampOutdatedError: Persistent timestamp outdated (caused by GetChannelDifferenceRequest)\n",
            "WARNING:telethon.client.users:Telegram is having internal issues PersistentTimestampOutdatedError: Persistent timestamp outdated (caused by GetChannelDifferenceRequest)\n",
            "WARNING:telethon.client.users:Telegram is having internal issues PersistentTimestampOutdatedError: Persistent timestamp outdated (caused by GetChannelDifferenceRequest)\n",
            "WARNING:telethon.client.users:Telegram is having internal issues PersistentTimestampOutdatedError: Persistent timestamp outdated (caused by GetChannelDifferenceRequest)\n",
            "WARNING:telethon.client.users:Telegram is having internal issues PersistentTimestampOutdatedError: Persistent timestamp outdated (caused by GetChannelDifferenceRequest)\n",
            "WARNING:telethon.client.users:Telegram is having internal issues PersistentTimestampOutdatedError: Persistent timestamp outdated (caused by GetChannelDifferenceRequest)\n",
            "WARNING:telethon.client.users:Telegram is having internal issues PersistentTimestampOutdatedError: Persistent timestamp outdated (caused by GetChannelDifferenceRequest)\n",
            "WARNING:telethon.client.users:Telegram is having internal issues PersistentTimestampOutdatedError: Persistent timestamp outdated (caused by GetChannelDifferenceRequest)\n",
            "WARNING:telethon.client.users:Telegram is having internal issues PersistentTimestampOutdatedError: Persistent timestamp outdated (caused by GetChannelDifferenceRequest)\n",
            "WARNING:telethon.client.users:Telegram is having internal issues PersistentTimestampOutdatedError: Persistent timestamp outdated (caused by GetChannelDifferenceRequest)\n",
            "WARNING:telethon.client.users:Telegram is having internal issues PersistentTimestampOutdatedError: Persistent timestamp outdated (caused by GetChannelDifferenceRequest)\n",
            "WARNING:telethon.client.users:Telegram is having internal issues PersistentTimestampOutdatedError: Persistent timestamp outdated (caused by GetChannelDifferenceRequest)\n",
            "WARNING:telethon.client.users:Telegram is having internal issues PersistentTimestampOutdatedError: Persistent timestamp outdated (caused by GetChannelDifferenceRequest)\n",
            "WARNING:telethon.client.users:Telegram is having internal issues PersistentTimestampOutdatedError: Persistent timestamp outdated (caused by GetChannelDifferenceRequest)\n",
            "WARNING:telethon.client.users:Telegram is having internal issues PersistentTimestampOutdatedError: Persistent timestamp outdated (caused by GetChannelDifferenceRequest)\n",
            "WARNING:telethon.client.users:Telegram is having internal issues PersistentTimestampOutdatedError: Persistent timestamp outdated (caused by GetChannelDifferenceRequest)\n",
            "WARNING:telethon.client.users:Telegram is having internal issues PersistentTimestampOutdatedError: Persistent timestamp outdated (caused by GetChannelDifferenceRequest)\n",
            "WARNING:telethon.client.users:Telegram is having internal issues PersistentTimestampOutdatedError: Persistent timestamp outdated (caused by GetChannelDifferenceRequest)\n",
            "WARNING:telethon.client.users:Telegram is having internal issues PersistentTimestampOutdatedError: Persistent timestamp outdated (caused by GetChannelDifferenceRequest)\n",
            "WARNING:telethon.client.users:Telegram is having internal issues PersistentTimestampOutdatedError: Persistent timestamp outdated (caused by GetChannelDifferenceRequest)\n",
            "WARNING:telethon.client.users:Telegram is having internal issues PersistentTimestampOutdatedError: Persistent timestamp outdated (caused by GetChannelDifferenceRequest)\n",
            "WARNING:telethon.client.users:Telegram is having internal issues PersistentTimestampOutdatedError: Persistent timestamp outdated (caused by GetChannelDifferenceRequest)\n",
            "WARNING:telethon.client.users:Telegram is having internal issues PersistentTimestampOutdatedError: Persistent timestamp outdated (caused by GetChannelDifferenceRequest)\n",
            "WARNING:telethon.client.users:Telegram is having internal issues PersistentTimestampOutdatedError: Persistent timestamp outdated (caused by GetChannelDifferenceRequest)\n",
            "WARNING:telethon.client.users:Telegram is having internal issues PersistentTimestampOutdatedError: Persistent timestamp outdated (caused by GetChannelDifferenceRequest)\n",
            "WARNING:telethon.client.users:Telegram is having internal issues PersistentTimestampOutdatedError: Persistent timestamp outdated (caused by GetChannelDifferenceRequest)\n",
            "WARNING:telethon.client.users:Telegram is having internal issues PersistentTimestampOutdatedError: Persistent timestamp outdated (caused by GetChannelDifferenceRequest)\n",
            "WARNING:telethon.client.users:Telegram is having internal issues PersistentTimestampOutdatedError: Persistent timestamp outdated (caused by GetChannelDifferenceRequest)\n",
            "WARNING:telethon.client.users:Telegram is having internal issues PersistentTimestampOutdatedError: Persistent timestamp outdated (caused by GetChannelDifferenceRequest)\n",
            "WARNING:telethon.client.users:Telegram is having internal issues PersistentTimestampOutdatedError: Persistent timestamp outdated (caused by GetChannelDifferenceRequest)\n",
            "WARNING:telethon.client.users:Telegram is having internal issues PersistentTimestampOutdatedError: Persistent timestamp outdated (caused by GetChannelDifferenceRequest)\n",
            "WARNING:telethon.client.users:Telegram is having internal issues PersistentTimestampOutdatedError: Persistent timestamp outdated (caused by GetChannelDifferenceRequest)\n",
            "WARNING:telethon.client.users:Telegram is having internal issues PersistentTimestampOutdatedError: Persistent timestamp outdated (caused by GetChannelDifferenceRequest)\n",
            "WARNING:telethon.client.users:Telegram is having internal issues PersistentTimestampOutdatedError: Persistent timestamp outdated (caused by GetChannelDifferenceRequest)\n",
            "WARNING:telethon.client.users:Telegram is having internal issues PersistentTimestampOutdatedError: Persistent timestamp outdated (caused by GetChannelDifferenceRequest)\n",
            "WARNING:telethon.client.users:Telegram is having internal issues PersistentTimestampOutdatedError: Persistent timestamp outdated (caused by GetChannelDifferenceRequest)\n",
            "WARNING:telethon.client.users:Telegram is having internal issues PersistentTimestampOutdatedError: Persistent timestamp outdated (caused by GetChannelDifferenceRequest)\n",
            "WARNING:telethon.client.users:Telegram is having internal issues PersistentTimestampOutdatedError: Persistent timestamp outdated (caused by GetChannelDifferenceRequest)\n",
            "WARNING:telethon.client.users:Telegram is having internal issues PersistentTimestampOutdatedError: Persistent timestamp outdated (caused by GetChannelDifferenceRequest)\n",
            "WARNING:telethon.client.users:Telegram is having internal issues PersistentTimestampOutdatedError: Persistent timestamp outdated (caused by GetChannelDifferenceRequest)\n",
            "WARNING:telethon.client.users:Telegram is having internal issues PersistentTimestampOutdatedError: Persistent timestamp outdated (caused by GetChannelDifferenceRequest)\n",
            "WARNING:telethon.client.users:Telegram is having internal issues PersistentTimestampOutdatedError: Persistent timestamp outdated (caused by GetChannelDifferenceRequest)\n",
            "WARNING:telethon.client.users:Telegram is having internal issues PersistentTimestampOutdatedError: Persistent timestamp outdated (caused by GetChannelDifferenceRequest)\n",
            "WARNING:telethon.client.users:Telegram is having internal issues PersistentTimestampOutdatedError: Persistent timestamp outdated (caused by GetChannelDifferenceRequest)\n"
          ]
        }
      ],
      "source": [
        "# STEP 7: RUN HOURLY AUTOMATION (COLAB COMPATIBLE)\n",
        "import nest_asyncio\n",
        "nest_asyncio.apply()\n",
        "\n",
        "print(\"=\" * 50)\n",
        "print(\"🚀 TELEGRAM HOURLY AUTOMATION STARTING\")\n",
        "print(\"=\" * 50)\n",
        "print(f\"📱 Accounts: 3\")\n",
        "print(f\"📊 Groups: {len(TELEGRAM_GROUPS)}\")\n",
        "print(f\"⏰ Frequency: Every 1 hour\")\n",
        "print(f\"🎁 Promocode: OGGY\")\n",
        "print(\"=\" * 50)\n",
        "\n",
        "print(\"⏳ Starting in 5 seconds...\")\n",
        "time.sleep(5)\n",
        "\n",
        "# Run the automation\n",
        "await hourly_bot.start_hourly_automation()"
      ]
    }
  ],
  "metadata": {
    "colab": {
      "provenance": [],
      "authorship_tag": "ABX9TyNSLySQ1XyXpYbtFEk8oQHb",
      "include_colab_link": true
    },
    "kernelspec": {
      "display_name": "Python 3",
      "name": "python3"
    },
    "language_info": {
      "name": "python"
    }
  },
  "nbformat": 4,
  "nbformat_minor": 0
}